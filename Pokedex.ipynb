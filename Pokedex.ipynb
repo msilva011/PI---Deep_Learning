{
 "cells": [
  {
   "cell_type": "code",
   "execution_count": 43,
   "metadata": {},
   "outputs": [],
   "source": [
    "#'os' para manipulação no proprio sistema windows\n",
    "import os\n",
    "import random\n",
    "import shutil\n",
    "import numpy as np\n",
    "import matplotlib.pyplot as plt\n",
    "from matplotlib.image import imread"
   ]
  },
  {
   "cell_type": "code",
   "execution_count": 48,
   "metadata": {},
   "outputs": [],
   "source": [
    "from tensorflow.keras.preprocessing.image import ImageDataGenerator\n",
    "from tensorflow.keras.models import Sequential,load_model\n",
    "from tensorflow.keras.layers import Dense, Conv2D, MaxPool2D, Dropout, Flatten, BatchNormalization\n",
    "from tensorflow.keras.optimizers import Adam\n",
    "from tensorflow.keras.callbacks import EarlyStopping\n",
    "from tensorflow.keras.preprocessing import image\n",
    "from PIL import Image"
   ]
  },
  {
   "cell_type": "markdown",
   "metadata": {},
   "source": [
    "Configuração do kaggle na maquina, a função abaixo baixa o dataset e descompacta. A propria plataforma disponibiliza a api para essa integração."
   ]
  },
  {
   "cell_type": "code",
   "execution_count": 45,
   "metadata": {},
   "outputs": [],
   "source": [
    "def kaggle_dataset_fetch(kgdata):\n",
    "\n",
    "  os.system(\"pip install -q kaggle\")\n",
    "  os.system(\"rm -r -f ~/.kaggle/\")\n",
    "  os.system(\"mkdir ~/.kaggle/\")\n",
    "  #carrega o arquivo json\n",
    "  uploaded = files.upload()\n",
    "  \n",
    "  if uploaded.get(\"kaggle.json\") == None:\n",
    "    raise Exception(\"kaggle.json was not found. Please upload again\")\n",
    "  \n",
    "  os.system(\"cp kaggle.json ~/.kaggle/\")\n",
    "  os.system(\"chmod 600 /root/.kaggle/kaggle.json\")\n",
    "  print(f\"kaggle datasets download -d {kgdata}\")\n",
    "  os.system(f\"kaggle datasets download -d {kgdata}\")\n",
    "\n",
    "  #Descompactando\n",
    "  z = os.popen(\"ls *.zip\").read()\n",
    "  os.system(f\"unzip {z}\")\n",
    "\n",
    "  os.system(f\"rm -f {z}\")"
   ]
  },
  {
   "cell_type": "code",
   "execution_count": 46,
   "metadata": {},
   "outputs": [],
   "source": [
    "from kaggle.api.kaggle_api_extended import KaggleApi\n",
    "api = KaggleApi()\n",
    "api.authenticate()"
   ]
  },
  {
   "cell_type": "markdown",
   "metadata": {},
   "source": [
    "O dataset não disponibiliza ja dados para treinamento e teste separadamente, por isso foi necessario essa separação.\n"
   ]
  },
  {
   "cell_type": "code",
   "execution_count": 75,
   "metadata": {},
   "outputs": [],
   "source": [
    "def prepare_train_test(data,dir_kaggle,dir_train,test=0.3):\n",
    "  \n",
    "  #Criação do diretorio\n",
    "  for i in data:\n",
    "    shutil.copytree(f\"{dir_kaggle}/{i}\",f\"{dir_train}/train_data/{i}\")\n",
    "    shutil.copytree(f\"{dir_kaggle}/{i}\",f\"{dir_train}/test_data/{i}\",ignore=shutil.ignore_patterns('*.*'))\n",
    "  \n",
    "  #Escolha aleatoria de img para teste formantando tamanho = dataset test\n",
    "  for pokemon in os.listdir(f\"{dir_train}/train_data/\"):\n",
    "    pop = os.listdir(f\"{dir_train}/train_data/{pokemon}\")\n",
    "    test_size = len(pop) * test\n",
    "    random.shuffle(pop)\n",
    "    test_data = pop[-int(test_size):]\n",
    "    \n",
    "    for f in test_data:\n",
    "      shutil.move(f\"{dir_train}/train_data/{pokemon}/{f}\",f\"{dir_train}/test_data/{pokemon}\")"
   ]
  },
  {
   "cell_type": "markdown",
   "metadata": {},
   "source": [
    "Separando os diretorios"
   ]
  },
  {
   "cell_type": "code",
   "execution_count": 76,
   "metadata": {},
   "outputs": [],
   "source": [
    "data = os.listdir(\"PokemonData\")\n",
    "dir_kaggle = \"PokemonData\"\n",
    "dir_train = \"PokeData\""
   ]
  },
  {
   "cell_type": "code",
   "execution_count": 77,
   "metadata": {},
   "outputs": [
    {
     "ename": "FileExistsError",
     "evalue": "[WinError 183] Não é possível criar um arquivo já existente: 'PokeData/train_data/Abra'",
     "output_type": "error",
     "traceback": [
      "\u001b[1;31m---------------------------------------------------------------------------\u001b[0m",
      "\u001b[1;31mFileExistsError\u001b[0m                           Traceback (most recent call last)",
      "\u001b[1;32mc:\\Users\\rosam\\SENAC\\Projeto_Integrador-AI-Deep_Learning\\PI-Deep_Learning\\Pokedex.ipynb Cell 9'\u001b[0m in \u001b[0;36m<cell line: 1>\u001b[1;34m()\u001b[0m\n\u001b[1;32m----> <a href='vscode-notebook-cell:/c%3A/Users/rosam/SENAC/Projeto_Integrador-AI-Deep_Learning/PI-Deep_Learning/Pokedex.ipynb#ch0000007?line=0'>1</a>\u001b[0m prepare_train_test(data,dir_kaggle,dir_train)\n",
      "\u001b[1;32mc:\\Users\\rosam\\SENAC\\Projeto_Integrador-AI-Deep_Learning\\PI-Deep_Learning\\Pokedex.ipynb Cell 7'\u001b[0m in \u001b[0;36mprepare_train_test\u001b[1;34m(data, dir_kaggle, dir_train, test)\u001b[0m\n\u001b[0;32m      <a href='vscode-notebook-cell:/c%3A/Users/rosam/SENAC/Projeto_Integrador-AI-Deep_Learning/PI-Deep_Learning/Pokedex.ipynb#ch0000005?line=0'>1</a>\u001b[0m \u001b[39mdef\u001b[39;00m \u001b[39mprepare_train_test\u001b[39m(data,dir_kaggle,dir_train,test\u001b[39m=\u001b[39m\u001b[39m0.3\u001b[39m):\n\u001b[0;32m      <a href='vscode-notebook-cell:/c%3A/Users/rosam/SENAC/Projeto_Integrador-AI-Deep_Learning/PI-Deep_Learning/Pokedex.ipynb#ch0000005?line=1'>2</a>\u001b[0m   \n\u001b[0;32m      <a href='vscode-notebook-cell:/c%3A/Users/rosam/SENAC/Projeto_Integrador-AI-Deep_Learning/PI-Deep_Learning/Pokedex.ipynb#ch0000005?line=2'>3</a>\u001b[0m   \u001b[39m#Criação do diretorio\u001b[39;00m\n\u001b[0;32m      <a href='vscode-notebook-cell:/c%3A/Users/rosam/SENAC/Projeto_Integrador-AI-Deep_Learning/PI-Deep_Learning/Pokedex.ipynb#ch0000005?line=3'>4</a>\u001b[0m   \u001b[39mfor\u001b[39;00m i \u001b[39min\u001b[39;00m data:\n\u001b[1;32m----> <a href='vscode-notebook-cell:/c%3A/Users/rosam/SENAC/Projeto_Integrador-AI-Deep_Learning/PI-Deep_Learning/Pokedex.ipynb#ch0000005?line=4'>5</a>\u001b[0m     shutil\u001b[39m.\u001b[39;49mcopytree(\u001b[39mf\u001b[39;49m\u001b[39m\"\u001b[39;49m\u001b[39m{\u001b[39;49;00mdir_kaggle\u001b[39m}\u001b[39;49;00m\u001b[39m/\u001b[39;49m\u001b[39m{\u001b[39;49;00mi\u001b[39m}\u001b[39;49;00m\u001b[39m\"\u001b[39;49m,\u001b[39mf\u001b[39;49m\u001b[39m\"\u001b[39;49m\u001b[39m{\u001b[39;49;00mdir_train\u001b[39m}\u001b[39;49;00m\u001b[39m/train_data/\u001b[39;49m\u001b[39m{\u001b[39;49;00mi\u001b[39m}\u001b[39;49;00m\u001b[39m\"\u001b[39;49m)\n\u001b[0;32m      <a href='vscode-notebook-cell:/c%3A/Users/rosam/SENAC/Projeto_Integrador-AI-Deep_Learning/PI-Deep_Learning/Pokedex.ipynb#ch0000005?line=5'>6</a>\u001b[0m     shutil\u001b[39m.\u001b[39mcopytree(\u001b[39mf\u001b[39m\u001b[39m\"\u001b[39m\u001b[39m{\u001b[39;00mdir_kaggle\u001b[39m}\u001b[39;00m\u001b[39m/\u001b[39m\u001b[39m{\u001b[39;00mi\u001b[39m}\u001b[39;00m\u001b[39m\"\u001b[39m,\u001b[39mf\u001b[39m\u001b[39m\"\u001b[39m\u001b[39m{\u001b[39;00mdir_train\u001b[39m}\u001b[39;00m\u001b[39m/test_data/\u001b[39m\u001b[39m{\u001b[39;00mi\u001b[39m}\u001b[39;00m\u001b[39m\"\u001b[39m,ignore\u001b[39m=\u001b[39mshutil\u001b[39m.\u001b[39mignore_patterns(\u001b[39m'\u001b[39m\u001b[39m*.*\u001b[39m\u001b[39m'\u001b[39m))\n\u001b[0;32m      <a href='vscode-notebook-cell:/c%3A/Users/rosam/SENAC/Projeto_Integrador-AI-Deep_Learning/PI-Deep_Learning/Pokedex.ipynb#ch0000005?line=7'>8</a>\u001b[0m   \u001b[39m#Escolha aleatoria de img para teste formantando tamanho = dataset test\u001b[39;00m\n",
      "File \u001b[1;32mc:\\Users\\rosam\\AppData\\Local\\Programs\\Python\\Python310\\lib\\shutil.py:556\u001b[0m, in \u001b[0;36mcopytree\u001b[1;34m(src, dst, symlinks, ignore, copy_function, ignore_dangling_symlinks, dirs_exist_ok)\u001b[0m\n\u001b[0;32m    <a href='file:///c%3A/Users/rosam/AppData/Local/Programs/Python/Python310/lib/shutil.py?line=553'>554</a>\u001b[0m \u001b[39mwith\u001b[39;00m os\u001b[39m.\u001b[39mscandir(src) \u001b[39mas\u001b[39;00m itr:\n\u001b[0;32m    <a href='file:///c%3A/Users/rosam/AppData/Local/Programs/Python/Python310/lib/shutil.py?line=554'>555</a>\u001b[0m     entries \u001b[39m=\u001b[39m \u001b[39mlist\u001b[39m(itr)\n\u001b[1;32m--> <a href='file:///c%3A/Users/rosam/AppData/Local/Programs/Python/Python310/lib/shutil.py?line=555'>556</a>\u001b[0m \u001b[39mreturn\u001b[39;00m _copytree(entries\u001b[39m=\u001b[39;49mentries, src\u001b[39m=\u001b[39;49msrc, dst\u001b[39m=\u001b[39;49mdst, symlinks\u001b[39m=\u001b[39;49msymlinks,\n\u001b[0;32m    <a href='file:///c%3A/Users/rosam/AppData/Local/Programs/Python/Python310/lib/shutil.py?line=556'>557</a>\u001b[0m                  ignore\u001b[39m=\u001b[39;49mignore, copy_function\u001b[39m=\u001b[39;49mcopy_function,\n\u001b[0;32m    <a href='file:///c%3A/Users/rosam/AppData/Local/Programs/Python/Python310/lib/shutil.py?line=557'>558</a>\u001b[0m                  ignore_dangling_symlinks\u001b[39m=\u001b[39;49mignore_dangling_symlinks,\n\u001b[0;32m    <a href='file:///c%3A/Users/rosam/AppData/Local/Programs/Python/Python310/lib/shutil.py?line=558'>559</a>\u001b[0m                  dirs_exist_ok\u001b[39m=\u001b[39;49mdirs_exist_ok)\n",
      "File \u001b[1;32mc:\\Users\\rosam\\AppData\\Local\\Programs\\Python\\Python310\\lib\\shutil.py:457\u001b[0m, in \u001b[0;36m_copytree\u001b[1;34m(entries, src, dst, symlinks, ignore, copy_function, ignore_dangling_symlinks, dirs_exist_ok)\u001b[0m\n\u001b[0;32m    <a href='file:///c%3A/Users/rosam/AppData/Local/Programs/Python/Python310/lib/shutil.py?line=453'>454</a>\u001b[0m \u001b[39melse\u001b[39;00m:\n\u001b[0;32m    <a href='file:///c%3A/Users/rosam/AppData/Local/Programs/Python/Python310/lib/shutil.py?line=454'>455</a>\u001b[0m     ignored_names \u001b[39m=\u001b[39m \u001b[39mset\u001b[39m()\n\u001b[1;32m--> <a href='file:///c%3A/Users/rosam/AppData/Local/Programs/Python/Python310/lib/shutil.py?line=456'>457</a>\u001b[0m os\u001b[39m.\u001b[39;49mmakedirs(dst, exist_ok\u001b[39m=\u001b[39;49mdirs_exist_ok)\n\u001b[0;32m    <a href='file:///c%3A/Users/rosam/AppData/Local/Programs/Python/Python310/lib/shutil.py?line=457'>458</a>\u001b[0m errors \u001b[39m=\u001b[39m []\n\u001b[0;32m    <a href='file:///c%3A/Users/rosam/AppData/Local/Programs/Python/Python310/lib/shutil.py?line=458'>459</a>\u001b[0m use_srcentry \u001b[39m=\u001b[39m copy_function \u001b[39mis\u001b[39;00m copy2 \u001b[39mor\u001b[39;00m copy_function \u001b[39mis\u001b[39;00m copy\n",
      "File \u001b[1;32mc:\\Users\\rosam\\AppData\\Local\\Programs\\Python\\Python310\\lib\\os.py:225\u001b[0m, in \u001b[0;36mmakedirs\u001b[1;34m(name, mode, exist_ok)\u001b[0m\n\u001b[0;32m    <a href='file:///c%3A/Users/rosam/AppData/Local/Programs/Python/Python310/lib/os.py?line=222'>223</a>\u001b[0m         \u001b[39mreturn\u001b[39;00m\n\u001b[0;32m    <a href='file:///c%3A/Users/rosam/AppData/Local/Programs/Python/Python310/lib/os.py?line=223'>224</a>\u001b[0m \u001b[39mtry\u001b[39;00m:\n\u001b[1;32m--> <a href='file:///c%3A/Users/rosam/AppData/Local/Programs/Python/Python310/lib/os.py?line=224'>225</a>\u001b[0m     mkdir(name, mode)\n\u001b[0;32m    <a href='file:///c%3A/Users/rosam/AppData/Local/Programs/Python/Python310/lib/os.py?line=225'>226</a>\u001b[0m \u001b[39mexcept\u001b[39;00m \u001b[39mOSError\u001b[39;00m:\n\u001b[0;32m    <a href='file:///c%3A/Users/rosam/AppData/Local/Programs/Python/Python310/lib/os.py?line=226'>227</a>\u001b[0m     \u001b[39m# Cannot rely on checking for EEXIST, since the operating system\u001b[39;00m\n\u001b[0;32m    <a href='file:///c%3A/Users/rosam/AppData/Local/Programs/Python/Python310/lib/os.py?line=227'>228</a>\u001b[0m     \u001b[39m# could give priority to other errors like EACCES or EROFS\u001b[39;00m\n\u001b[0;32m    <a href='file:///c%3A/Users/rosam/AppData/Local/Programs/Python/Python310/lib/os.py?line=228'>229</a>\u001b[0m     \u001b[39mif\u001b[39;00m \u001b[39mnot\u001b[39;00m exist_ok \u001b[39mor\u001b[39;00m \u001b[39mnot\u001b[39;00m path\u001b[39m.\u001b[39misdir(name):\n",
      "\u001b[1;31mFileExistsError\u001b[0m: [WinError 183] Não é possível criar um arquivo já existente: 'PokeData/train_data/Abra'"
     ]
    }
   ],
   "source": [
    "prepare_train_test(data,dir_kaggle,dir_train)"
   ]
  },
  {
   "cell_type": "code",
   "execution_count": 57,
   "metadata": {},
   "outputs": [],
   "source": [
    "train_path = f\"{dir_train}/train_data\"\n",
    "test_path = f\"{dir_train}/test_data\""
   ]
  },
  {
   "cell_type": "markdown",
   "metadata": {},
   "source": [
    "Preparação das imagens do dataset"
   ]
  },
  {
   "cell_type": "code",
   "execution_count": null,
   "metadata": {},
   "outputs": [],
   "source": [
    "image_gen = ImageDataGenerator(rotation_range=20,\n",
    "                               rescale = 1./255,\n",
    "                               width_shift_range=0.1,\n",
    "                               height_shift_range=0.1,\n",
    "                               shear_range=0.1,\n",
    "                               zoom_range=0.1,\n",
    "                               horizontal_flip=True,\n",
    "                               fill_mode='nearest')"
   ]
  },
  {
   "cell_type": "markdown",
   "metadata": {},
   "source": [
    "Teste de Imagens (visualizaçao)"
   ]
  },
  {
   "cell_type": "code",
   "execution_count": 61,
   "metadata": {},
   "outputs": [],
   "source": [
    "#Escolhido dragonair\n",
    "img_path = \"PokeData/train_data/Dragonair/23d9b4c374914321abd2e18a18ea926a.jpg\""
   ]
  },
  {
   "cell_type": "code",
   "execution_count": 62,
   "metadata": {},
   "outputs": [
    {
     "data": {
      "text/plain": [
       "(300, 269, 3)"
      ]
     },
     "execution_count": 62,
     "metadata": {},
     "output_type": "execute_result"
    }
   ],
   "source": [
    "#formatação IMG\n",
    "imread(img_path).shape"
   ]
  },
  {
   "cell_type": "code",
   "execution_count": 64,
   "metadata": {},
   "outputs": [
    {
     "data": {
      "text/plain": [
       "<matplotlib.image.AxesImage at 0x1a885c799c0>"
      ]
     },
     "execution_count": 64,
     "metadata": {},
     "output_type": "execute_result"
    },
    {
     "data": {
      "image/png": "[encoded data removed]",
      "text/plain": [
       "<Figure size 432x288 with 1 Axes>"
      ]
     },
     "metadata": {
      "needs_background": "light"
     },
     "output_type": "display_data"
    }
   ],
   "source": [
    "#Manipulado\n",
    "plt.imshow(image_gen.random_transform(imread(img_path)))"
   ]
  },
  {
   "cell_type": "markdown",
   "metadata": {},
   "source": [
    "Aplicar no diretorio completo enviando para path"
   ]
  },
  {
   "cell_type": "code",
   "execution_count": 65,
   "metadata": {},
   "outputs": [
    {
     "name": "stdout",
     "output_type": "stream",
     "text": [
      "Found 4838 images belonging to 150 classes.\n"
     ]
    },
    {
     "data": {
      "text/plain": [
       "<keras.preprocessing.image.DirectoryIterator at 0x1a885c7a0b0>"
      ]
     },
     "execution_count": 65,
     "metadata": {},
     "output_type": "execute_result"
    }
   ],
   "source": [
    "#Treino\n",
    "image_gen.flow_from_directory(train_path)"
   ]
  },
  {
   "cell_type": "code",
   "execution_count": 66,
   "metadata": {},
   "outputs": [
    {
     "name": "stdout",
     "output_type": "stream",
     "text": [
      "Found 1982 images belonging to 150 classes.\n"
     ]
    },
    {
     "data": {
      "text/plain": [
       "<keras.preprocessing.image.DirectoryIterator at 0x1a885c79fc0>"
      ]
     },
     "execution_count": 66,
     "metadata": {},
     "output_type": "execute_result"
    }
   ],
   "source": [
    "#Teste\n",
    "image_gen.flow_from_directory(test_path)"
   ]
  },
  {
   "cell_type": "markdown",
   "metadata": {},
   "source": [
    "CNN"
   ]
  },
  {
   "cell_type": "code",
   "execution_count": null,
   "metadata": {},
   "outputs": [],
   "source": [
    "#Formatando IMG\n",
    "image_shape = (256,256,3)"
   ]
  },
  {
   "cell_type": "markdown",
   "metadata": {},
   "source": [
    "Base de entendimento para criação model usando Relu, accuracy"
   ]
  },
  {
   "cell_type": "markdown",
   "metadata": {},
   "source": [
    "https://www.youtube.com/watch?v=YAn3FijMPGo&list=PLpAVc-5L0TX_draNYxCmjgm2yYKAy9aIp&index=19\n",
    "https://www.youtube.com/watch?v=V5SFLCTcY_0\n",
    "https://www.youtube.com/watch?v=oNUANt5jsq8"
   ]
  },
  {
   "cell_type": "code",
   "execution_count": 68,
   "metadata": {},
   "outputs": [],
   "source": [
    "model = Sequential()\n",
    "\n",
    "model.add(Conv2D(filters=256,kernel_size=(3,3),padding='same',input_shape=image_shape,activation='relu'))\n",
    "model.add(MaxPool2D(pool_size=(2,2)))\n",
    "model.add(BatchNormalization())\n",
    "model.add(Conv2D(filters=256,kernel_size=(3,3),padding='same',input_shape=image_shape,activation='relu'))\n",
    "model.add(MaxPool2D(pool_size=(2,2)))\n",
    "model.add(Dropout(rate=0.25))\n",
    "model.add(Conv2D(filters=128,kernel_size=(3,3),padding='same',input_shape=image_shape,activation='relu'))\n",
    "model.add(MaxPool2D(pool_size=(2,2)))\n",
    "model.add(Conv2D(filters=64,kernel_size=(3,3),padding='same',input_shape=image_shape,activation='relu'))\n",
    "model.add(MaxPool2D(pool_size=(2,2)))\n",
    "model.add(Dropout(rate=0.25))\n",
    "model.add(BatchNormalization())\n",
    "\n",
    "model.add(Flatten())\n",
    "\n",
    "model.add(Dense(1024,activation='relu'))\n",
    "\n",
    "model.add(Dropout(rate=0.25))\n",
    "\n",
    "model.add(Dense(512,activation='relu'))\n",
    "\n",
    "model.add(Dense(150,activation='softmax'))\n",
    "\n",
    "\n",
    "model.compile(loss='categorical_crossentropy', optimizer=Adam(learning_rate=0.001), metrics=['accuracy'])"
   ]
  },
  {
   "cell_type": "markdown",
   "metadata": {},
   "source": [
    "Dados Modelo\n"
   ]
  },
  {
   "cell_type": "code",
   "execution_count": 69,
   "metadata": {},
   "outputs": [
    {
     "name": "stdout",
     "output_type": "stream",
     "text": [
      "Model: \"sequential_2\"\n",
      "_________________________________________________________________\n",
      " Layer (type)                Output Shape              Param #   \n",
      "=================================================================\n",
      " conv2d_8 (Conv2D)           (None, 256, 256, 256)     7168      \n",
      "                                                                 \n",
      " max_pooling2d_8 (MaxPooling  (None, 128, 128, 256)    0         \n",
      " 2D)                                                             \n",
      "                                                                 \n",
      " batch_normalization_4 (Batc  (None, 128, 128, 256)    1024      \n",
      " hNormalization)                                                 \n",
      "                                                                 \n",
      " conv2d_9 (Conv2D)           (None, 128, 128, 256)     590080    \n",
      "                                                                 \n",
      " max_pooling2d_9 (MaxPooling  (None, 64, 64, 256)      0         \n",
      " 2D)                                                             \n",
      "                                                                 \n",
      " dropout_6 (Dropout)         (None, 64, 64, 256)       0         \n",
      "                                                                 \n",
      " conv2d_10 (Conv2D)          (None, 64, 64, 128)       295040    \n",
      "                                                                 \n",
      " max_pooling2d_10 (MaxPoolin  (None, 32, 32, 128)      0         \n",
      " g2D)                                                            \n",
      "                                                                 \n",
      " conv2d_11 (Conv2D)          (None, 32, 32, 64)        73792     \n",
      "                                                                 \n",
      " max_pooling2d_11 (MaxPoolin  (None, 16, 16, 64)       0         \n",
      " g2D)                                                            \n",
      "                                                                 \n",
      " dropout_7 (Dropout)         (None, 16, 16, 64)        0         \n",
      "                                                                 \n",
      " batch_normalization_5 (Batc  (None, 16, 16, 64)       256       \n",
      " hNormalization)                                                 \n",
      "                                                                 \n",
      " flatten_2 (Flatten)         (None, 16384)             0         \n",
      "                                                                 \n",
      " dense_6 (Dense)             (None, 1024)              16778240  \n",
      "                                                                 \n",
      " dropout_8 (Dropout)         (None, 1024)              0         \n",
      "                                                                 \n",
      " dense_7 (Dense)             (None, 512)               524800    \n",
      "                                                                 \n",
      " dense_8 (Dense)             (None, 150)               76950     \n",
      "                                                                 \n",
      "=================================================================\n",
      "Total params: 18,347,350\n",
      "Trainable params: 18,346,710\n",
      "Non-trainable params: 640\n",
      "_________________________________________________________________\n"
     ]
    }
   ],
   "source": [
    "model.summary()"
   ]
  },
  {
   "cell_type": "markdown",
   "metadata": {},
   "source": [
    "Definindo tamanho"
   ]
  },
  {
   "cell_type": "code",
   "execution_count": null,
   "metadata": {},
   "outputs": [],
   "source": [
    "batch_size = 32"
   ]
  },
  {
   "cell_type": "markdown",
   "metadata": {},
   "source": [
    "Gerando Treinamento"
   ]
  },
  {
   "cell_type": "code",
   "execution_count": 72,
   "metadata": {},
   "outputs": [
    {
     "name": "stdout",
     "output_type": "stream",
     "text": [
      "Found 4838 images belonging to 150 classes.\n"
     ]
    }
   ],
   "source": [
    "#Treino\n",
    "train_image_gen = image_gen.flow_from_directory(train_path,\n",
    "                                                target_size=image_shape[:2],\n",
    "                                                color_mode='rgb',\n",
    "                                                batch_size=batch_size,\n",
    "                                                class_mode='categorical')"
   ]
  },
  {
   "cell_type": "code",
   "execution_count": 73,
   "metadata": {},
   "outputs": [
    {
     "name": "stdout",
     "output_type": "stream",
     "text": [
      "Found 1982 images belonging to 150 classes.\n"
     ]
    }
   ],
   "source": [
    "#Teste\n",
    "test_image_gen = image_gen.flow_from_directory(test_path,\n",
    "                                                target_size=image_shape[:2],\n",
    "                                                color_mode='rgb',\n",
    "                                                batch_size=batch_size,\n",
    "                                                class_mode='categorical')"
   ]
  },
  {
   "cell_type": "code",
   "execution_count": 74,
   "metadata": {},
   "outputs": [
    {
     "name": "stdout",
     "output_type": "stream",
     "text": [
      "303/303 [==============================] - 3294s 11s/step - loss: 4.8683 - accuracy: 0.0254 - val_loss: 6.0480 - val_accuracy: 0.0121\n"
     ]
    }
   ],
   "source": [
    "#Treinando\n",
    "results = model.fit(train_image_gen,epochs=1,validation_data=test_image_gen)"
   ]
  },
  {
   "cell_type": "code",
   "execution_count": 78,
   "metadata": {},
   "outputs": [],
   "source": [
    "model.save('PokemonCNN.h5')"
   ]
  },
  {
   "cell_type": "code",
   "execution_count": 79,
   "metadata": {},
   "outputs": [
    {
     "name": "stdout",
     "output_type": "stream",
     "text": [
      "124/124 [==============================] - 445s 4s/step - loss: 6.0465 - accuracy: 0.0121\n"
     ]
    },
    {
     "data": {
      "text/plain": [
       "[6.046545028686523, 0.012108980678021908]"
      ]
     },
     "execution_count": 79,
     "metadata": {},
     "output_type": "execute_result"
    }
   ],
   "source": [
    "model.evaluate(test_image_gen)"
   ]
  }
 ],
 "metadata": {
  "interpreter": {
   "hash": "585c3680bccf0737c81ce55dddaf5033d236a99c55df4889b635867c78fad9a8"
  },
  "kernelspec": {
   "display_name": "Python 3.10.3 64-bit",
   "language": "python",
   "name": "python3"
  },
  "language_info": {
   "codemirror_mode": {
    "name": "ipython",
    "version": 3
   },
   "file_extension": ".py",
   "mimetype": "text/x-python",
   "name": "python",
   "nbconvert_exporter": "python",
   "pygments_lexer": "ipython3",
   "version": "3.10.3 (tags/v3.10.3:a342a49, Mar 16 2022, 13:07:40) [MSC v.1929 64 bit (AMD64)]"
  },
  "orig_nbformat": 4
 },
 "nbformat": 4,
 "nbformat_minor": 2
}
